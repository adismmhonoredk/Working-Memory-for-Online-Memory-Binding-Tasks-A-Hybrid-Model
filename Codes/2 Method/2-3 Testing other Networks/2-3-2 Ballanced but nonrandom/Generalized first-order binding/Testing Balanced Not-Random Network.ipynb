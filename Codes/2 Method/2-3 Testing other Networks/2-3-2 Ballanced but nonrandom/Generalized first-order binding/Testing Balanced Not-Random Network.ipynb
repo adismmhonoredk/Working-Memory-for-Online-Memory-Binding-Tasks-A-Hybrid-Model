{
 "cells": [
  {
   "cell_type": "markdown",
   "metadata": {},
   "source": [
    "# Testing Balanced Not-Random Network"
   ]
  },
  {
   "cell_type": "code",
   "execution_count": 1,
   "metadata": {},
   "outputs": [],
   "source": [
    "import tensorflow as tf\n",
    "import numpy as np"
   ]
  },
  {
   "cell_type": "code",
   "execution_count": 2,
   "metadata": {},
   "outputs": [],
   "source": [
    "degree=20\n",
    "netsize=1000\n",
    "k=2\n",
    "interface_dim=350"
   ]
  },
  {
   "cell_type": "code",
   "execution_count": 3,
   "metadata": {},
   "outputs": [],
   "source": [
    "density=degree/netsize\n",
    "randomnetwork=np.zeros((netsize,netsize))\n",
    "for row in range(netsize):\n",
    "    if (row%3==0): \n",
    "        for i in range(degree):\n",
    "            randomnetwork[row,row-i]=-1\n",
    "    else:\n",
    "        for i in range(degree):\n",
    "            randomnetwork[row,row-i]=1/2"
   ]
  },
  {
   "cell_type": "code",
   "execution_count": 4,
   "metadata": {},
   "outputs": [
    {
     "data": {
      "text/plain": [
       "array([[-1. ,  0. ,  0. , ..., -1. , -1. , -1. ],\n",
       "       [ 0.5,  0.5,  0. , ...,  0.5,  0.5,  0.5],\n",
       "       [ 0.5,  0.5,  0.5, ...,  0.5,  0.5,  0.5],\n",
       "       ...,\n",
       "       [ 0. ,  0. ,  0. , ...,  0.5,  0. ,  0. ],\n",
       "       [ 0. ,  0. ,  0. , ...,  0.5,  0.5,  0. ],\n",
       "       [ 0. ,  0. ,  0. , ..., -1. , -1. , -1. ]])"
      ]
     },
     "execution_count": 4,
     "metadata": {},
     "output_type": "execute_result"
    }
   ],
   "source": [
    "randomnetwork"
   ]
  },
  {
   "cell_type": "markdown",
   "metadata": {},
   "source": [
    "## One shock in time"
   ]
  },
  {
   "cell_type": "code",
   "execution_count": 13,
   "metadata": {},
   "outputs": [],
   "source": [
    "interface=np.zeros(interface_dim)\n",
    "for i in range(interface_dim):\n",
    "    r=tf.random.uniform(shape=[],minval=0,maxval=1)\n",
    "    interface[i]=r"
   ]
  },
  {
   "cell_type": "code",
   "execution_count": 14,
   "metadata": {},
   "outputs": [
    {
     "data": {
      "text/plain": [
       "array([0.54567575, 0.44694543, 0.33178723, 0.52518594, 0.77256012,\n",
       "       0.74225521, 0.37002814, 0.42774487, 0.49610317, 0.43546009,\n",
       "       0.25355458, 0.90234661, 0.49261236, 0.04048777, 0.08756006,\n",
       "       0.59558904, 0.97481608, 0.52477229, 0.10884154, 0.60098112,\n",
       "       0.54077697, 0.97492671, 0.0276202 , 0.50281894, 0.72892821,\n",
       "       0.83882916, 0.93763435, 0.10525215, 0.26135445, 0.22655976,\n",
       "       0.01054811, 0.11278665, 0.8373369 , 0.37357795, 0.03640246,\n",
       "       0.79882598, 0.34443414, 0.99300122, 0.94712973, 0.31514001,\n",
       "       0.00950277, 0.67023933, 0.54645538, 0.18065035, 0.32588804,\n",
       "       0.61279058, 0.77336931, 0.38523471, 0.57857108, 0.34602225,\n",
       "       0.06235754, 0.54249477, 0.071154  , 0.02879822, 0.33837378,\n",
       "       0.82290673, 0.38413489, 0.44802988, 0.94592524, 0.61279273,\n",
       "       0.74709487, 0.21457982, 0.9804076 , 0.79665911, 0.03176808,\n",
       "       0.15610349, 0.61594927, 0.18371046, 0.9334836 , 0.72501576,\n",
       "       0.17359746, 0.97227347, 0.13158512, 0.2604661 , 0.93578911,\n",
       "       0.40509188, 0.44878435, 0.61413276, 0.24184465, 0.51753235,\n",
       "       0.69981718, 0.75301552, 0.3154918 , 0.82535207, 0.5836798 ,\n",
       "       0.47089398, 0.56890404, 0.95211112, 0.22072697, 0.62970996,\n",
       "       0.81639814, 0.93545842, 0.02432346, 0.83735347, 0.81364179,\n",
       "       0.52375996, 0.53147542, 0.94093788, 0.74426866, 0.4925369 ,\n",
       "       0.30435932, 0.24366105, 0.53558981, 0.09286571, 0.16967154,\n",
       "       0.58733296, 0.77529538, 0.55316234, 0.61457181, 0.89236808,\n",
       "       0.8353914 , 0.18684042, 0.39229715, 0.70588624, 0.54340792,\n",
       "       0.86895859, 0.3162781 , 0.43581891, 0.6972307 , 0.87728155,\n",
       "       0.53537989, 0.86854589, 0.53061426, 0.93466151, 0.27195287,\n",
       "       0.23911476, 0.80510104, 0.32551968, 0.95610583, 0.0331161 ,\n",
       "       0.61076903, 0.78909779, 0.40782702, 0.63211644, 0.70113397,\n",
       "       0.6975311 , 0.44252789, 0.24144173, 0.01171243, 0.75932062,\n",
       "       0.31229234, 0.22457981, 0.44442058, 0.81600273, 0.16126895,\n",
       "       0.17962503, 0.23525357, 0.08337855, 0.80400968, 0.97737074,\n",
       "       0.09748268, 0.83507442, 0.52317548, 0.09575188, 0.1408627 ,\n",
       "       0.66375422, 0.43557608, 0.81447613, 0.35014808, 0.30936527,\n",
       "       0.4746424 , 0.4590714 , 0.40792704, 0.62978113, 0.18015206,\n",
       "       0.27464342, 0.39967203, 0.9455148 , 0.61150301, 0.2223016 ,\n",
       "       0.95659065, 0.63634801, 0.68723583, 0.38963866, 0.1160934 ,\n",
       "       0.63238382, 0.48913229, 0.89697993, 0.18704069, 0.13407254,\n",
       "       0.5552671 , 0.29247904, 0.67588651, 0.91145134, 0.31576729,\n",
       "       0.56095636, 0.99575138, 0.79925036, 0.26186132, 0.44988549,\n",
       "       0.40111113, 0.45070088, 0.79737473, 0.71977615, 0.68689966,\n",
       "       0.40752637, 0.59078121, 0.5744164 , 0.29781544, 0.77793133,\n",
       "       0.9202081 , 0.09449279, 0.75858629, 0.11939216, 0.36471891,\n",
       "       0.9096657 , 0.2006135 , 0.54270709, 0.86941469, 0.18100739,\n",
       "       0.53521037, 0.83069062, 0.02686942, 0.95730853, 0.36137295,\n",
       "       0.61486566, 0.86692762, 0.09551144, 0.60541272, 0.54910886,\n",
       "       0.50413656, 0.00513887, 0.74806619, 0.79287827, 0.95296025,\n",
       "       0.68283343, 0.57162809, 0.25605237, 0.19967782, 0.46388757,\n",
       "       0.33219886, 0.53220308, 0.30449176, 0.73109174, 0.61107635,\n",
       "       0.33935237, 0.92759252, 0.66287637, 0.23300242, 0.22781003,\n",
       "       0.8120054 , 0.40261579, 0.54948175, 0.90744758, 0.62090135,\n",
       "       0.07045317, 0.95466673, 0.09670961, 0.60397398, 0.16260791,\n",
       "       0.646855  , 0.6813513 , 0.15770924, 0.74924278, 0.25179172,\n",
       "       0.2520417 , 0.33673322, 0.24087787, 0.80692029, 0.3183403 ,\n",
       "       0.91357005, 0.03762782, 0.35247838, 0.51653659, 0.20648062,\n",
       "       0.72261357, 0.95348334, 0.52419496, 0.97325766, 0.24579036,\n",
       "       0.72048318, 0.49493897, 0.37462628, 0.61612356, 0.34414625,\n",
       "       0.64929998, 0.12530851, 0.24805629, 0.77817714, 0.06205273,\n",
       "       0.76174915, 0.1195507 , 0.21284747, 0.8096993 , 0.77724946,\n",
       "       0.09700716, 0.56993484, 0.27203691, 0.79107785, 0.90108943,\n",
       "       0.7608614 , 0.67291546, 0.90016651, 0.01404893, 0.65351641,\n",
       "       0.4963485 , 0.79036033, 0.27404666, 0.46993327, 0.96915054,\n",
       "       0.37003016, 0.08954334, 0.91532779, 0.45480347, 0.64852667,\n",
       "       0.84804213, 0.542014  , 0.74095321, 0.67516172, 0.23764229,\n",
       "       0.6089679 , 0.43976355, 0.28358126, 0.85290658, 0.61894035,\n",
       "       0.65852404, 0.73483562, 0.79050004, 0.70670259, 0.54677129,\n",
       "       0.86526895, 0.13296187, 0.25803876, 0.2223084 , 0.98724329,\n",
       "       0.07577884, 0.74485397, 0.32967091, 0.88403296, 0.89590585,\n",
       "       0.34844446, 0.62291908, 0.17322731, 0.17476797, 0.32255828,\n",
       "       0.18701267, 0.28571832, 0.18039346, 0.2089963 , 0.84725833,\n",
       "       0.75087845, 0.66345978, 0.08089268, 0.49739707, 0.42952096,\n",
       "       0.55841136, 0.94138014, 0.64329004, 0.00218725, 0.22305012])"
      ]
     },
     "execution_count": 14,
     "metadata": {},
     "output_type": "execute_result"
    }
   ],
   "source": [
    "interface"
   ]
  },
  {
   "cell_type": "code",
   "execution_count": 15,
   "metadata": {},
   "outputs": [],
   "source": [
    "time=10\n",
    "#Initialized!\n",
    "temp=np.zeros((time,netsize))"
   ]
  },
  {
   "cell_type": "code",
   "execution_count": 16,
   "metadata": {},
   "outputs": [],
   "source": [
    "for i in range(interface_dim):\n",
    "   temp[0,i]=interface[i]\n",
    "\n",
    "#update fire states\n",
    "for t in range(time):\n",
    "    if t<time-1:\n",
    "        for i in range(netsize):\n",
    "            \n",
    "            s= np.dot(temp[t],randomnetwork[i])*1/12 #forget_rate=1/12\n",
    "            if s>0:\n",
    "                 temp[t+1,i]=s\n",
    "            else:\n",
    "                 temp[t+1,i]=0"
   ]
  },
  {
   "cell_type": "code",
   "execution_count": 17,
   "metadata": {},
   "outputs": [
    {
     "data": {
      "image/png": "[encoded data removed]",
      "text/plain": [
       "<Figure size 432x288 with 1 Axes>"
      ]
     },
     "metadata": {
      "needs_background": "light"
     },
     "output_type": "display_data"
    }
   ],
   "source": [
    "y=np.zeros(netsize)\n",
    "for t in range(time):\n",
    "    plt.scatter(y,temp[t])\n",
    "    y=y+0.01"
   ]
  },
  {
   "cell_type": "code",
   "execution_count": 18,
   "metadata": {},
   "outputs": [
    {
     "name": "stdout",
     "output_type": "stream",
     "text": [
      "99.57513809204102\n",
      "52.93688327074051\n",
      "28.319456117848556\n",
      "15.746184986050208\n",
      "8.752115543272037\n",
      "4.890042650525029\n",
      "2.7439763962498063\n",
      "1.5383320608798865\n",
      "0.8619211260854807\n",
      "0.4827777285460429\n"
     ]
    }
   ],
   "source": [
    "for i in range(time):\n",
    "    print(max(temp[i])*100)"
   ]
  },
  {
   "cell_type": "code",
   "execution_count": 19,
   "metadata": {},
   "outputs": [
    {
     "data": {
      "text/plain": [
       "0.008619211260854806"
      ]
     },
     "execution_count": 19,
     "metadata": {},
     "output_type": "execute_result"
    }
   ],
   "source": [
    "max(temp[8])"
   ]
  },
  {
   "cell_type": "code",
   "execution_count": 20,
   "metadata": {},
   "outputs": [],
   "source": [
    "x=[-1, 2, 3, -4]"
   ]
  },
  {
   "cell_type": "code",
   "execution_count": 21,
   "metadata": {},
   "outputs": [
    {
     "data": {
      "text/plain": [
       "2"
      ]
     },
     "execution_count": 21,
     "metadata": {},
     "output_type": "execute_result"
    }
   ],
   "source": [
    "abs(x[1])"
   ]
  },
  {
   "cell_type": "code",
   "execution_count": 22,
   "metadata": {},
   "outputs": [
    {
     "name": "stdout",
     "output_type": "stream",
     "text": [
      "tf.Tensor([1 2 6], shape=(3,), dtype=int32)\n"
     ]
    }
   ],
   "source": [
    "print(tf.nn.relu6([1,2, 10]))"
   ]
  },
  {
   "cell_type": "markdown",
   "metadata": {},
   "source": [
    "## Stability in Long Period of Time and Multiple Shocks..."
   ]
  },
  {
   "cell_type": "code",
   "execution_count": 23,
   "metadata": {},
   "outputs": [],
   "source": [
    "time=100\n",
    "#Initialized!\n",
    "temp=np.zeros((time,netsize))"
   ]
  },
  {
   "cell_type": "code",
   "execution_count": 24,
   "metadata": {},
   "outputs": [],
   "source": [
    "for i in range(interface_dim):\n",
    "   temp[0,i]=interface[i]\n",
    "\n",
    "#update fire states\n",
    "\n",
    "temp2=np.zeros(netsize)\n",
    "for t in range(time):\n",
    "    if t<time-1:\n",
    "        interface=np.zeros(interface_dim)\n",
    "        for i in range(interface_dim):\n",
    "            r=tf.random.uniform(shape=[],minval=0,maxval=1)\n",
    "            interface[i]=r\n",
    "                \n",
    "        for i in range(interface_dim):\n",
    "            temp2[i]=temp[t,i]+interface[i]\n",
    "            \n",
    "        for i in range(netsize):\n",
    "            s=np.dot(temp2,randomnetwork[i])*1/12 #forget_rate=1/12\n",
    "            if s>0:\n",
    "                temp[t+1,i]=s\n",
    "            else:\n",
    "                temp[t+1,i]=0\n",
    "        \n",
    "        #changing size\n",
    "        for i in range(interface_dim):\n",
    "            interface[i]=temp[t+1,i]\n"
   ]
  },
  {
   "cell_type": "code",
   "execution_count": 25,
   "metadata": {},
   "outputs": [],
   "source": [
    "y=np.zeros(netsize)"
   ]
  },
  {
   "cell_type": "code",
   "execution_count": 26,
   "metadata": {},
   "outputs": [
    {
     "data": {
      "image/png": "[encoded data removed]",
      "text/plain": [
       "<Figure size 432x288 with 1 Axes>"
      ]
     },
     "metadata": {
      "needs_background": "light"
     },
     "output_type": "display_data"
    }
   ],
   "source": [
    "for t in range(time):\n",
    "    plt.scatter(y,temp[t])\n",
    "    y=y+0.01"
   ]
  },
  {
   "cell_type": "code",
   "execution_count": 27,
   "metadata": {},
   "outputs": [
    {
     "data": {
      "text/plain": [
       "1.1626747775287891"
      ]
     },
     "execution_count": 27,
     "metadata": {},
     "output_type": "execute_result"
    }
   ],
   "source": [
    "np.max(temp[8:40])"
   ]
  },
  {
   "cell_type": "code",
   "execution_count": 28,
   "metadata": {},
   "outputs": [],
   "source": [
    "for i in range(8):\n",
    "    a=a+(3.3*1/4)"
   ]
  },
  {
   "cell_type": "code",
   "execution_count": null,
   "metadata": {},
   "outputs": [],
   "source": []
  },
  {
   "cell_type": "code",
   "execution_count": null,
   "metadata": {},
   "outputs": [],
   "source": []
  }
 ],
 "metadata": {
  "kernelspec": {
   "display_name": "Python 3.6.7 64-bit ('tensorflow': conda)",
   "language": "python",
   "name": "python36764bittensorflowcondab1e3a78e85c44bccb762133c62bd920c"
  },
  "language_info": {
   "codemirror_mode": {
    "name": "ipython",
    "version": 3
   },
   "file_extension": ".py",
   "mimetype": "text/x-python",
   "name": "python",
   "nbconvert_exporter": "python",
   "pygments_lexer": "ipython3",
   "version": "3.6.7"
  }
 },
 "nbformat": 4,
 "nbformat_minor": 4
}
